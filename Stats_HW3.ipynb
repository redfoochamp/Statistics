{
 "cells": [
  {
   "cell_type": "markdown",
   "id": "763cacab",
   "metadata": {},
   "source": [
    "### Задача №1"
   ]
  },
  {
   "cell_type": "markdown",
   "id": "72230a99",
   "metadata": {},
   "source": [
    "1) Какие гипотезы называются простыми, а какие сложными?\n",
    "<li>Простой гипотезой называют предположение, состоящее в том, что неизвестная функция F(t)  отвечает некоторому совершенно конкретному вероятностному распределению.<li>\n",
    "Сложной гипотезой называют предположение о том, что неизвестная функция F(t) принадлежит некоторому множеству распределений, состоящему из более чем одного элемента.\n"
   ]
  },
  {
   "cell_type": "markdown",
   "id": "67f0c270",
   "metadata": {},
   "source": [
    "2) Чем отличаются параметрические критерии от непараметрических? Когда используют парамет.критерии?\n",
    "<li> Критерий различия называют параметрическим, если он основан на конкретном типе распределения генеральной совокупности (как правило, нормальном) или использует параметры этой совокупности (средние, дисперсии и т.д.). Критерий различия называют непараметрическим, если он не базируется на предположении о типе распределения генеральной совокупности и не использует параметры этой совокупности.<li>\n",
    "    Когда выборки взяты из нормально распределенных генеральных совокупностей, следует отдавать предпочтение параметрическим критериям."
   ]
  },
  {
   "cell_type": "markdown",
   "id": "f413e031",
   "metadata": {},
   "source": [
    "3) Что такое уровень значимости? Что такое фактический уровень значимости?\n",
    "<li>Уровень значимости статистического теста — допустимая для данной задачи вероятность ошибки первого рода (ложноположительного решения, false positive), то есть вероятность отклонить нулевую гипотезу, когда на самом деле она верна.<li>\n",
    "    Фактический уровень значимости или пи-величина (p-value) — это наименьшая величина уровня значимости, при которой нулевая гипотеза отвергается для данного значения статистики критерия."
   ]
  },
  {
   "cell_type": "markdown",
   "id": "3fdb99d8",
   "metadata": {},
   "source": [
    "4) С помощью каких критериев можно проверить нормальность выборки?\n",
    "<li>Критерий Шапиро-Уилка, QQ-график, Критерий хи-квадрат\n",
    "   "
   ]
  },
  {
   "cell_type": "markdown",
   "id": "f2e0534b",
   "metadata": {},
   "source": [
    "5)Что такое ранг наблюдений? Когда предпочтительнее использовать ранговые критерии?\n",
    "<li>Ранг - это последовательное число, определяющее специальное наблюдение в выборке, отсортированной по значениям наблюдений, и поэтому отражающее порядковую связь данного наблюдения с другими в выборке.\n",
    "    "
   ]
  },
  {
   "cell_type": "markdown",
   "id": "34e3da80",
   "metadata": {},
   "source": [
    "### Задача №2"
   ]
  },
  {
   "cell_type": "code",
   "execution_count": 3,
   "id": "a7d274b2",
   "metadata": {},
   "outputs": [],
   "source": [
    "import numpy as np\n",
    "from scipy import stats\n",
    "import pandas as pd\n",
    "import matplotlib.pyplot as plt"
   ]
  },
  {
   "cell_type": "code",
   "execution_count": 5,
   "id": "8ee3db20",
   "metadata": {},
   "outputs": [
    {
     "data": {
      "text/html": [
       "<div>\n",
       "<style scoped>\n",
       "    .dataframe tbody tr th:only-of-type {\n",
       "        vertical-align: middle;\n",
       "    }\n",
       "\n",
       "    .dataframe tbody tr th {\n",
       "        vertical-align: top;\n",
       "    }\n",
       "\n",
       "    .dataframe thead th {\n",
       "        text-align: right;\n",
       "    }\n",
       "</style>\n",
       "<table border=\"1\" class=\"dataframe\">\n",
       "  <thead>\n",
       "    <tr style=\"text-align: right;\">\n",
       "      <th></th>\n",
       "      <th>Unnamed: 0</th>\n",
       "      <th>GENDER</th>\n",
       "      <th>DEPART</th>\n",
       "      <th>EDUC</th>\n",
       "      <th>AGE</th>\n",
       "      <th>HEIGHT</th>\n",
       "      <th>SENIOR</th>\n",
       "      <th>SALARY</th>\n",
       "      <th>INI_PROF</th>\n",
       "      <th>CUR_PROF</th>\n",
       "    </tr>\n",
       "  </thead>\n",
       "  <tbody>\n",
       "    <tr>\n",
       "      <th>0</th>\n",
       "      <td>Alexander</td>\n",
       "      <td>Female</td>\n",
       "      <td>Ship</td>\n",
       "      <td>College</td>\n",
       "      <td>22</td>\n",
       "      <td>63</td>\n",
       "      <td>4</td>\n",
       "      <td>23400</td>\n",
       "      <td>82</td>\n",
       "      <td>90</td>\n",
       "    </tr>\n",
       "    <tr>\n",
       "      <th>1</th>\n",
       "      <td>Arcones</td>\n",
       "      <td>Male</td>\n",
       "      <td>Package</td>\n",
       "      <td>College</td>\n",
       "      <td>49</td>\n",
       "      <td>65</td>\n",
       "      <td>17</td>\n",
       "      <td>40400</td>\n",
       "      <td>89</td>\n",
       "      <td>123</td>\n",
       "    </tr>\n",
       "    <tr>\n",
       "      <th>2</th>\n",
       "      <td>Barber</td>\n",
       "      <td>Male</td>\n",
       "      <td>Bake</td>\n",
       "      <td>College</td>\n",
       "      <td>36</td>\n",
       "      <td>67</td>\n",
       "      <td>8</td>\n",
       "      <td>29400</td>\n",
       "      <td>77</td>\n",
       "      <td>93</td>\n",
       "    </tr>\n",
       "    <tr>\n",
       "      <th>3</th>\n",
       "      <td>Barrera</td>\n",
       "      <td>Male</td>\n",
       "      <td>Package</td>\n",
       "      <td>HS</td>\n",
       "      <td>37</td>\n",
       "      <td>67</td>\n",
       "      <td>3</td>\n",
       "      <td>24800</td>\n",
       "      <td>102</td>\n",
       "      <td>108</td>\n",
       "    </tr>\n",
       "    <tr>\n",
       "      <th>4</th>\n",
       "      <td>Bester</td>\n",
       "      <td>Male</td>\n",
       "      <td>Ship</td>\n",
       "      <td>Grad</td>\n",
       "      <td>43</td>\n",
       "      <td>66</td>\n",
       "      <td>11</td>\n",
       "      <td>31200</td>\n",
       "      <td>82</td>\n",
       "      <td>104</td>\n",
       "    </tr>\n",
       "  </tbody>\n",
       "</table>\n",
       "</div>"
      ],
      "text/plain": [
       "   Unnamed: 0  GENDER   DEPART     EDUC  AGE  HEIGHT  SENIOR  SALARY  \\\n",
       "0  Alexander   Female     Ship  College   22      63       4   23400   \n",
       "1  Arcones       Male  Package  College   49      65      17   40400   \n",
       "2  Barber        Male     Bake  College   36      67       8   29400   \n",
       "3  Barrera       Male  Package       HS   37      67       3   24800   \n",
       "4  Bester        Male     Ship     Grad   43      66      11   31200   \n",
       "\n",
       "   INI_PROF  CUR_PROF  \n",
       "0        82        90  \n",
       "1        89       123  \n",
       "2        77        93  \n",
       "3       102       108  \n",
       "4        82       104  "
      ]
     },
     "execution_count": 5,
     "metadata": {},
     "output_type": "execute_result"
    }
   ],
   "source": [
    "data = pd.read_excel('employees.xls')\n",
    "data.head()"
   ]
  },
  {
   "cell_type": "code",
   "execution_count": 6,
   "id": "086df0f7",
   "metadata": {},
   "outputs": [
    {
     "data": {
      "image/png": "[encoded data removed]",
      "text/plain": [
       "<Figure size 432x288 with 1 Axes>"
      ]
     },
     "metadata": {
      "needs_background": "light"
     },
     "output_type": "display_data"
    }
   ],
   "source": [
    "plt.hist(data.SALARY)\n",
    "plt.show()"
   ]
  },
  {
   "cell_type": "code",
   "execution_count": 7,
   "id": "1aa228c7",
   "metadata": {},
   "outputs": [
    {
     "name": "stderr",
     "output_type": "stream",
     "text": [
      "/Library/Frameworks/Python.framework/Versions/3.9/lib/python3.9/site-packages/statsmodels/graphics/gofplots.py:993: UserWarning: marker is redundantly defined by the 'marker' keyword argument and the fmt string \"bo\" (-> marker='o'). The keyword argument will take precedence.\n",
      "  ax.plot(x, y, fmt, **plot_style)\n"
     ]
    },
    {
     "data": {
      "image/png": "[encoded data removed]",
      "text/plain": [
       "<Figure size 432x288 with 1 Axes>"
      ]
     },
     "metadata": {
      "needs_background": "light"
     },
     "output_type": "display_data"
    }
   ],
   "source": [
    "from statsmodels.graphics.gofplots import qqplot # импортируем функцию qqplot\n",
    "\n",
    "qqplot(data.SALARY, line = 's')\n",
    "plt.show()"
   ]
  },
  {
   "cell_type": "code",
   "execution_count": 8,
   "id": "0bfa8eb2",
   "metadata": {},
   "outputs": [
    {
     "data": {
      "text/plain": [
       "ShapiroResult(statistic=0.9015016555786133, pvalue=1.6645467439957429e-06)"
      ]
     },
     "execution_count": 8,
     "metadata": {},
     "output_type": "execute_result"
    }
   ],
   "source": [
    "stats.shapiro(data.SALARY)"
   ]
  },
  {
   "cell_type": "code",
   "execution_count": 9,
   "id": "b717f217",
   "metadata": {},
   "outputs": [
    {
     "data": {
      "text/plain": [
       "Jarque_beraResult(statistic=34.06327990738705, pvalue=4.011000820369759e-08)"
      ]
     },
     "execution_count": 9,
     "metadata": {},
     "output_type": "execute_result"
    }
   ],
   "source": [
    "stats.jarque_bera(data.SALARY)"
   ]
  },
  {
   "cell_type": "markdown",
   "id": "9f02dd90",
   "metadata": {},
   "source": [
    "Нормальность отвергается!"
   ]
  },
  {
   "cell_type": "markdown",
   "id": "eafba419",
   "metadata": {},
   "source": [
    "### Задача №3"
   ]
  },
  {
   "cell_type": "code",
   "execution_count": 12,
   "id": "4d51871a",
   "metadata": {},
   "outputs": [
    {
     "data": {
      "image/png": "[encoded data removed]",
      "text/plain": [
       "<Figure size 432x288 with 1 Axes>"
      ]
     },
     "metadata": {
      "needs_background": "light"
     },
     "output_type": "display_data"
    }
   ],
   "source": [
    "data3 = pd.read_csv('sample.csv')\n",
    "plt.hist(data3)\n",
    "plt.show()"
   ]
  },
  {
   "cell_type": "code",
   "execution_count": 34,
   "id": "76b2bdfa",
   "metadata": {},
   "outputs": [
    {
     "name": "stderr",
     "output_type": "stream",
     "text": [
      "/Library/Frameworks/Python.framework/Versions/3.9/lib/python3.9/site-packages/statsmodels/graphics/gofplots.py:993: UserWarning: marker is redundantly defined by the 'marker' keyword argument and the fmt string \"bo\" (-> marker='o'). The keyword argument will take precedence.\n",
      "  ax.plot(x, y, fmt, **plot_style)\n",
      "/Library/Frameworks/Python.framework/Versions/3.9/lib/python3.9/site-packages/statsmodels/graphics/gofplots.py:993: UserWarning: marker is redundantly defined by the 'marker' keyword argument and the fmt string \"bo\" (-> marker='o'). The keyword argument will take precedence.\n",
      "  ax.plot(x, y, fmt, **plot_style)\n",
      "/Library/Frameworks/Python.framework/Versions/3.9/lib/python3.9/site-packages/statsmodels/graphics/gofplots.py:993: UserWarning: marker is redundantly defined by the 'marker' keyword argument and the fmt string \"bo\" (-> marker='o'). The keyword argument will take precedence.\n",
      "  ax.plot(x, y, fmt, **plot_style)\n"
     ]
    },
    {
     "data": {
      "image/png": "[encoded data removed]",
      "text/plain": [
       "<Figure size 432x288 with 1 Axes>"
      ]
     },
     "metadata": {
      "needs_background": "light"
     },
     "output_type": "display_data"
    },
    {
     "data": {
      "image/png": "[encoded data removed]",
      "text/plain": [
       "<Figure size 432x288 with 1 Axes>"
      ]
     },
     "metadata": {
      "needs_background": "light"
     },
     "output_type": "display_data"
    },
    {
     "data": {
      "image/png": "[encoded data removed]",
      "text/plain": [
       "<Figure size 432x288 with 1 Axes>"
      ]
     },
     "metadata": {
      "needs_background": "light"
     },
     "output_type": "display_data"
    }
   ],
   "source": [
    "qqplot(data3,line = 's')\n",
    "qqplot(data3,stats.uniform, line = 'r')\n",
    "qqplot(data3,stats.expon, line = 'r')\n",
    "plt.show()"
   ]
  },
  {
   "cell_type": "code",
   "execution_count": 49,
   "id": "77b62ea0",
   "metadata": {},
   "outputs": [
    {
     "name": "stdout",
     "output_type": "stream",
     "text": [
      "KstestResult(statistic=0.9999995337941583, pvalue=0.0)\n",
      "KstestResult(statistic=1.0, pvalue=0.0)\n",
      "KstestResult(statistic=1.0, pvalue=0.0)\n",
      "ShapiroResult(statistic=0.8628283739089966, pvalue=3.6403054792799594e-08)\n"
     ]
    }
   ],
   "source": [
    "print(stats.kstest(data3, stats.expon.cdf))\n",
    "print(stats.kstest(data3, stats.uniform.cdf))\n",
    "print(stats.kstest(data3, stats.beta.cdf, args=(2,2)))\n",
    "print(stats.shapiro(data3))"
   ]
  },
  {
   "cell_type": "markdown",
   "id": "c1fa5dd5",
   "metadata": {},
   "source": [
    "### Задача №4"
   ]
  },
  {
   "cell_type": "code",
   "execution_count": 67,
   "id": "5d49fc8c",
   "metadata": {},
   "outputs": [
    {
     "data": {
      "image/png": "[encoded data removed]",
      "text/plain": [
       "<Figure size 576x360 with 1 Axes>"
      ]
     },
     "metadata": {
      "needs_background": "light"
     },
     "output_type": "display_data"
    }
   ],
   "source": [
    "data4 = pd.read_csv('anorexia.txt', sep = '\\t')\n",
    "data4.boxplot(figsize=(8,5))\n",
    "plt.show()"
   ]
  },
  {
   "cell_type": "code",
   "execution_count": 54,
   "id": "a1713246",
   "metadata": {},
   "outputs": [],
   "source": [
    "sample1 = data4['Before']\n",
    "sample2 = data4['After']"
   ]
  },
  {
   "cell_type": "code",
   "execution_count": 60,
   "id": "4edcb330",
   "metadata": {},
   "outputs": [
    {
     "data": {
      "text/plain": [
       "(-3.5, 0.26493089646101)"
      ]
     },
     "execution_count": 60,
     "metadata": {},
     "output_type": "execute_result"
    }
   ],
   "source": [
    "from statsmodels.stats.descriptivestats import sign_test\n",
    "\n",
    "sign_test(sample1 - sample2)"
   ]
  },
  {
   "cell_type": "markdown",
   "id": "caf58a74",
   "metadata": {},
   "source": [
    "Нулевая гипотеза НЕ отвергается"
   ]
  },
  {
   "cell_type": "code",
   "execution_count": 62,
   "id": "761e1991",
   "metadata": {},
   "outputs": [
    {
     "data": {
      "text/plain": [
       "WilcoxonResult(statistic=131.5, pvalue=0.06291972262602667)"
      ]
     },
     "execution_count": 62,
     "metadata": {},
     "output_type": "execute_result"
    }
   ],
   "source": [
    "stats.wilcoxon(sample1,sample2)"
   ]
  },
  {
   "cell_type": "code",
   "execution_count": 63,
   "id": "282bc7d2",
   "metadata": {},
   "outputs": [
    {
     "data": {
      "text/plain": [
       "WilcoxonResult(statistic=131.5, pvalue=0.031459861313013336)"
      ]
     },
     "execution_count": 63,
     "metadata": {},
     "output_type": "execute_result"
    }
   ],
   "source": [
    "stats.wilcoxon(sample1,sample2, alternative='less')"
   ]
  },
  {
   "cell_type": "code",
   "execution_count": 69,
   "id": "42f7c11f",
   "metadata": {},
   "outputs": [
    {
     "name": "stderr",
     "output_type": "stream",
     "text": [
      "/Library/Frameworks/Python.framework/Versions/3.9/lib/python3.9/site-packages/statsmodels/graphics/gofplots.py:993: UserWarning: marker is redundantly defined by the 'marker' keyword argument and the fmt string \"bo\" (-> marker='o'). The keyword argument will take precedence.\n",
      "  ax.plot(x, y, fmt, **plot_style)\n"
     ]
    },
    {
     "data": {
      "image/png": "[encoded data removed]",
      "text/plain": [
       "<Figure size 432x288 with 1 Axes>"
      ]
     },
     "metadata": {
      "needs_background": "light"
     },
     "output_type": "display_data"
    },
    {
     "data": {
      "text/plain": [
       "ShapiroResult(statistic=0.8961783051490784, pvalue=0.007945147342979908)"
      ]
     },
     "execution_count": 69,
     "metadata": {},
     "output_type": "execute_result"
    }
   ],
   "source": [
    "qqplot(sample1-sample2, line='s')\n",
    "plt.show()\n",
    "stats.shapiro(sample1-sample2)"
   ]
  },
  {
   "cell_type": "markdown",
   "id": "9666e778",
   "metadata": {},
   "source": [
    "Критерий Шапиро-Уилка отвергает гипотезу о нормальности данных. Поэтому чтобы протестировать значимость этого различия мы будем использовать критерий Манна-Уитни."
   ]
  },
  {
   "cell_type": "code",
   "execution_count": 68,
   "id": "a9f12f15",
   "metadata": {},
   "outputs": [
    {
     "data": {
      "text/plain": [
       "MannwhitneyuResult(statistic=320.5, pvalue=0.06087747429977483)"
      ]
     },
     "execution_count": 68,
     "metadata": {},
     "output_type": "execute_result"
    }
   ],
   "source": [
    "from scipy.stats import mannwhitneyu\n",
    "\n",
    "mannwhitneyu(sample1, sample2)"
   ]
  },
  {
   "cell_type": "markdown",
   "id": "353a83cf",
   "metadata": {},
   "source": [
    "С помощью \"ящиков с усами\" мы заметили, что вес до терапии меньше, чем после. С помощью критериев однородности, мы убедились, что эти различия значимы."
   ]
  },
  {
   "cell_type": "markdown",
   "id": "14d0b778",
   "metadata": {},
   "source": [
    "### Задача №5"
   ]
  },
  {
   "cell_type": "code",
   "execution_count": 131,
   "id": "d0a0c238",
   "metadata": {},
   "outputs": [
    {
     "data": {
      "image/png": "[encoded data removed]",
      "text/plain": [
       "<Figure size 576x360 with 1 Axes>"
      ]
     },
     "metadata": {
      "needs_background": "light"
     },
     "output_type": "display_data"
    }
   ],
   "source": [
    "data5 = pd.read_csv('seattle.txt', sep = '\\t')\n",
    "s1 = data5[data5['Year'] == 2001].drop('Year',1).reset_index(drop=True).rename(columns={'Price': '2001'})\n",
    "s2 = data5[data5['Year'] == 2002].drop('Year',1).reset_index(drop=True).rename(columns={'Price': '2002'})\n",
    "df = pd.concat([s1, s2], axis =1)\n",
    "df.boxplot(figsize=(8,5))\n",
    "plt.show()"
   ]
  },
  {
   "cell_type": "code",
   "execution_count": 141,
   "id": "4c4f81a7",
   "metadata": {},
   "outputs": [],
   "source": [
    "sample1 = df['2001']\n",
    "sample2 = df['2002']"
   ]
  },
  {
   "cell_type": "code",
   "execution_count": 144,
   "id": "1f082df4",
   "metadata": {},
   "outputs": [
    {
     "data": {
      "text/plain": [
       "KstestResult(statistic=0.14, pvalue=0.7166468440414822)"
      ]
     },
     "execution_count": 144,
     "metadata": {},
     "output_type": "execute_result"
    }
   ],
   "source": [
    "stats.ks_2samp(sample1,sample2)"
   ]
  },
  {
   "cell_type": "code",
   "execution_count": 145,
   "id": "39267416",
   "metadata": {},
   "outputs": [
    {
     "data": {
      "text/plain": [
       "KstestResult(statistic=0.14, pvalue=0.37779784844449826)"
      ]
     },
     "execution_count": 145,
     "metadata": {},
     "output_type": "execute_result"
    }
   ],
   "source": [
    "stats.ks_2samp(sample1,sample2, alternative='less')"
   ]
  },
  {
   "cell_type": "code",
   "execution_count": 138,
   "id": "8354e861",
   "metadata": {},
   "outputs": [
    {
     "data": {
      "text/plain": [
       "MannwhitneyuResult(statistic=1295.5, pvalue=0.7563872675701748)"
      ]
     },
     "execution_count": 138,
     "metadata": {},
     "output_type": "execute_result"
    }
   ],
   "source": [
    "stats.mannwhitneyu(sample1,sample2, alternative='two-sided')"
   ]
  },
  {
   "cell_type": "code",
   "execution_count": 143,
   "id": "fc4f9d6f",
   "metadata": {},
   "outputs": [
    {
     "data": {
      "image/png": "[encoded data removed]",
      "text/plain": [
       "<Figure size 1080x288 with 2 Axes>"
      ]
     },
     "metadata": {
      "needs_background": "light"
     },
     "output_type": "display_data"
    },
    {
     "name": "stderr",
     "output_type": "stream",
     "text": [
      "/Library/Frameworks/Python.framework/Versions/3.9/lib/python3.9/site-packages/statsmodels/graphics/gofplots.py:993: UserWarning: marker is redundantly defined by the 'marker' keyword argument and the fmt string \"bo\" (-> marker='o'). The keyword argument will take precedence.\n",
      "  ax.plot(x, y, fmt, **plot_style)\n",
      "/Library/Frameworks/Python.framework/Versions/3.9/lib/python3.9/site-packages/statsmodels/graphics/gofplots.py:993: UserWarning: marker is redundantly defined by the 'marker' keyword argument and the fmt string \"bo\" (-> marker='o'). The keyword argument will take precedence.\n",
      "  ax.plot(x, y, fmt, **plot_style)\n"
     ]
    },
    {
     "data": {
      "image/png": "[encoded data removed]",
      "text/plain": [
       "<Figure size 1080x288 with 2 Axes>"
      ]
     },
     "metadata": {
      "needs_background": "light"
     },
     "output_type": "display_data"
    },
    {
     "data": {
      "text/plain": [
       "Ttest_indResult(statistic=-0.8057258725189664, pvalue=0.42235167114691463)"
      ]
     },
     "execution_count": 143,
     "metadata": {},
     "output_type": "execute_result"
    }
   ],
   "source": [
    "fig, (ax1, ax2) = plt.subplots(ncols=2, figsize=(15,4)) \n",
    "\n",
    "ax1.hist(sample1, bins=5)\n",
    "ax2.hist(sample2, bins=5)\n",
    "\n",
    "plt.show()\n",
    "\n",
    "\n",
    "fig, (ax1, ax2) = plt.subplots(ncols=2, figsize=(15,4)) \n",
    "\n",
    "qqplot(sample1, line='r', ax=ax1)\n",
    "qqplot(sample2, line='r', ax=ax2)\n",
    "\n",
    "plt.show()\n",
    "stats.ttest_ind(sample1, sample2)"
   ]
  },
  {
   "cell_type": "markdown",
   "id": "e48fde30",
   "metadata": {},
   "source": [
    "С помощью \"ящиков с усами\" мы заметили, что цены в 2002 году выше, чем 2001. С помощью критериев однородности, мы убедились, что эти различия НЕзначимы."
   ]
  },
  {
   "cell_type": "markdown",
   "id": "04a74c91",
   "metadata": {},
   "source": [
    "### Задача №6"
   ]
  },
  {
   "cell_type": "code",
   "execution_count": 153,
   "id": "3f86a594",
   "metadata": {},
   "outputs": [
    {
     "data": {
      "text/html": [
       "<div>\n",
       "<style scoped>\n",
       "    .dataframe tbody tr th:only-of-type {\n",
       "        vertical-align: middle;\n",
       "    }\n",
       "\n",
       "    .dataframe tbody tr th {\n",
       "        vertical-align: top;\n",
       "    }\n",
       "\n",
       "    .dataframe thead th {\n",
       "        text-align: right;\n",
       "    }\n",
       "</style>\n",
       "<table border=\"1\" class=\"dataframe\">\n",
       "  <thead>\n",
       "    <tr style=\"text-align: right;\">\n",
       "      <th></th>\n",
       "      <th>Placebo</th>\n",
       "      <th>Methylphenidate</th>\n",
       "    </tr>\n",
       "  </thead>\n",
       "  <tbody>\n",
       "    <tr>\n",
       "      <th>0</th>\n",
       "      <td>57</td>\n",
       "      <td>62</td>\n",
       "    </tr>\n",
       "    <tr>\n",
       "      <th>1</th>\n",
       "      <td>27</td>\n",
       "      <td>49</td>\n",
       "    </tr>\n",
       "    <tr>\n",
       "      <th>2</th>\n",
       "      <td>32</td>\n",
       "      <td>30</td>\n",
       "    </tr>\n",
       "    <tr>\n",
       "      <th>3</th>\n",
       "      <td>31</td>\n",
       "      <td>34</td>\n",
       "    </tr>\n",
       "    <tr>\n",
       "      <th>4</th>\n",
       "      <td>34</td>\n",
       "      <td>38</td>\n",
       "    </tr>\n",
       "  </tbody>\n",
       "</table>\n",
       "</div>"
      ],
      "text/plain": [
       "   Placebo  Methylphenidate\n",
       "0       57               62\n",
       "1       27               49\n",
       "2       32               30\n",
       "3       31               34\n",
       "4       34               38"
      ]
     },
     "execution_count": 153,
     "metadata": {},
     "output_type": "execute_result"
    }
   ],
   "source": [
    "data6 = pd.read_csv('methylphenidate.txt', sep = ' ')\n",
    "data6.head()"
   ]
  },
  {
   "cell_type": "code",
   "execution_count": 156,
   "id": "23300648",
   "metadata": {},
   "outputs": [
    {
     "data": {
      "image/png": "[encoded data removed]",
      "text/plain": [
       "<Figure size 576x360 with 1 Axes>"
      ]
     },
     "metadata": {
      "needs_background": "light"
     },
     "output_type": "display_data"
    }
   ],
   "source": [
    "data6.boxplot(figsize=(8,5))\n",
    "plt.show()\n",
    "sample1 = data6['Placebo']\n",
    "sample2 = data6['Methylphenidate']"
   ]
  },
  {
   "cell_type": "code",
   "execution_count": 159,
   "id": "474744c4",
   "metadata": {},
   "outputs": [
    {
     "data": {
      "image/png": "[encoded data removed]",
      "text/plain": [
       "<Figure size 432x288 with 1 Axes>"
      ]
     },
     "metadata": {
      "needs_background": "light"
     },
     "output_type": "display_data"
    },
    {
     "data": {
      "text/plain": [
       "(-5.0, 0.06391465663909912)"
      ]
     },
     "execution_count": 159,
     "metadata": {},
     "output_type": "execute_result"
    }
   ],
   "source": [
    "plt.figure(figsize=(6,4))\n",
    "plt.hist(sample1-sample2, bins=6)\n",
    "plt.show()\n",
    "sign_test(sample1-sample2)"
   ]
  },
  {
   "cell_type": "code",
   "execution_count": 160,
   "id": "b2c7f988",
   "metadata": {},
   "outputs": [
    {
     "data": {
      "text/plain": [
       "WilcoxonResult(statistic=48.5, pvalue=0.0025163888931274414)"
      ]
     },
     "execution_count": 160,
     "metadata": {},
     "output_type": "execute_result"
    }
   ],
   "source": [
    "stats.wilcoxon(sample1,sample2)"
   ]
  },
  {
   "cell_type": "code",
   "execution_count": 161,
   "id": "0da87c78",
   "metadata": {},
   "outputs": [
    {
     "data": {
      "text/plain": [
       "WilcoxonResult(statistic=48.5, pvalue=0.0012581944465637207)"
      ]
     },
     "execution_count": 161,
     "metadata": {},
     "output_type": "execute_result"
    }
   ],
   "source": [
    "stats.wilcoxon(sample1,sample2, alternative='less')"
   ]
  },
  {
   "cell_type": "code",
   "execution_count": 162,
   "id": "02fb77f8",
   "metadata": {},
   "outputs": [
    {
     "name": "stderr",
     "output_type": "stream",
     "text": [
      "/Library/Frameworks/Python.framework/Versions/3.9/lib/python3.9/site-packages/statsmodels/graphics/gofplots.py:993: UserWarning: marker is redundantly defined by the 'marker' keyword argument and the fmt string \"bo\" (-> marker='o'). The keyword argument will take precedence.\n",
      "  ax.plot(x, y, fmt, **plot_style)\n"
     ]
    },
    {
     "data": {
      "image/png": "[encoded data removed]",
      "text/plain": [
       "<Figure size 432x288 with 1 Axes>"
      ]
     },
     "metadata": {
      "needs_background": "light"
     },
     "output_type": "display_data"
    },
    {
     "data": {
      "text/plain": [
       "ShapiroResult(statistic=0.9798052906990051, pvalue=0.8922504186630249)"
      ]
     },
     "execution_count": 162,
     "metadata": {},
     "output_type": "execute_result"
    }
   ],
   "source": [
    "qqplot(sample1-sample2, line='s')\n",
    "plt.show()\n",
    "stats.shapiro(sample1-sample2)"
   ]
  },
  {
   "cell_type": "code",
   "execution_count": 163,
   "id": "cc4b12bc",
   "metadata": {},
   "outputs": [
    {
     "data": {
      "text/plain": [
       "Ttest_relResult(statistic=-3.2223624451230406, pvalue=0.003771488176381471)"
      ]
     },
     "execution_count": 163,
     "metadata": {},
     "output_type": "execute_result"
    }
   ],
   "source": [
    "stats.ttest_rel(sample1, sample2)"
   ]
  },
  {
   "cell_type": "code",
   "execution_count": 169,
   "id": "db6becec",
   "metadata": {},
   "outputs": [
    {
     "data": {
      "text/plain": [
       "4.0"
      ]
     },
     "execution_count": 169,
     "metadata": {},
     "output_type": "execute_result"
    }
   ],
   "source": [
    "\n",
    "np.median([[sample2[i] - sample1[j] for j in range(len(sample1))] for i in range(len(sample2))])"
   ]
  },
  {
   "cell_type": "markdown",
   "id": "6a6705a1",
   "metadata": {},
   "source": [
    "С помощью \"ящиков с усами\" мы заметили, что есть изменения после приема препарата. С помощью критериев однородности, мы убедились, что эти различия значимы."
   ]
  },
  {
   "cell_type": "markdown",
   "id": "30ef45cc",
   "metadata": {},
   "source": [
    "### Задача №7"
   ]
  },
  {
   "cell_type": "code",
   "execution_count": 170,
   "id": "cc029ca5",
   "metadata": {},
   "outputs": [
    {
     "data": {
      "text/html": [
       "<div>\n",
       "<style scoped>\n",
       "    .dataframe tbody tr th:only-of-type {\n",
       "        vertical-align: middle;\n",
       "    }\n",
       "\n",
       "    .dataframe tbody tr th {\n",
       "        vertical-align: top;\n",
       "    }\n",
       "\n",
       "    .dataframe thead th {\n",
       "        text-align: right;\n",
       "    }\n",
       "</style>\n",
       "<table border=\"1\" class=\"dataframe\">\n",
       "  <thead>\n",
       "    <tr style=\"text-align: right;\">\n",
       "      <th></th>\n",
       "      <th>Unnamed: 0</th>\n",
       "      <th>mpg</th>\n",
       "      <th>cyl</th>\n",
       "      <th>disp</th>\n",
       "      <th>hp</th>\n",
       "      <th>drat</th>\n",
       "      <th>wt</th>\n",
       "      <th>qsec</th>\n",
       "      <th>vs</th>\n",
       "      <th>am</th>\n",
       "      <th>gear</th>\n",
       "      <th>carb</th>\n",
       "    </tr>\n",
       "  </thead>\n",
       "  <tbody>\n",
       "    <tr>\n",
       "      <th>0</th>\n",
       "      <td>Mazda RX4</td>\n",
       "      <td>21.0</td>\n",
       "      <td>6</td>\n",
       "      <td>160.0</td>\n",
       "      <td>110</td>\n",
       "      <td>3.90</td>\n",
       "      <td>2.620</td>\n",
       "      <td>16.46</td>\n",
       "      <td>0</td>\n",
       "      <td>1</td>\n",
       "      <td>4</td>\n",
       "      <td>4</td>\n",
       "    </tr>\n",
       "    <tr>\n",
       "      <th>1</th>\n",
       "      <td>Mazda RX4 Wag</td>\n",
       "      <td>21.0</td>\n",
       "      <td>6</td>\n",
       "      <td>160.0</td>\n",
       "      <td>110</td>\n",
       "      <td>3.90</td>\n",
       "      <td>2.875</td>\n",
       "      <td>17.02</td>\n",
       "      <td>0</td>\n",
       "      <td>1</td>\n",
       "      <td>4</td>\n",
       "      <td>4</td>\n",
       "    </tr>\n",
       "    <tr>\n",
       "      <th>2</th>\n",
       "      <td>Datsun 710</td>\n",
       "      <td>22.8</td>\n",
       "      <td>4</td>\n",
       "      <td>108.0</td>\n",
       "      <td>93</td>\n",
       "      <td>3.85</td>\n",
       "      <td>2.320</td>\n",
       "      <td>18.61</td>\n",
       "      <td>1</td>\n",
       "      <td>1</td>\n",
       "      <td>4</td>\n",
       "      <td>1</td>\n",
       "    </tr>\n",
       "    <tr>\n",
       "      <th>3</th>\n",
       "      <td>Hornet 4 Drive</td>\n",
       "      <td>21.4</td>\n",
       "      <td>6</td>\n",
       "      <td>258.0</td>\n",
       "      <td>110</td>\n",
       "      <td>3.08</td>\n",
       "      <td>3.215</td>\n",
       "      <td>19.44</td>\n",
       "      <td>1</td>\n",
       "      <td>0</td>\n",
       "      <td>3</td>\n",
       "      <td>1</td>\n",
       "    </tr>\n",
       "    <tr>\n",
       "      <th>4</th>\n",
       "      <td>Hornet Sportabout</td>\n",
       "      <td>18.7</td>\n",
       "      <td>8</td>\n",
       "      <td>360.0</td>\n",
       "      <td>175</td>\n",
       "      <td>3.15</td>\n",
       "      <td>3.440</td>\n",
       "      <td>17.02</td>\n",
       "      <td>0</td>\n",
       "      <td>0</td>\n",
       "      <td>3</td>\n",
       "      <td>2</td>\n",
       "    </tr>\n",
       "  </tbody>\n",
       "</table>\n",
       "</div>"
      ],
      "text/plain": [
       "          Unnamed: 0   mpg  cyl   disp   hp  drat     wt   qsec  vs  am  gear  \\\n",
       "0          Mazda RX4  21.0    6  160.0  110  3.90  2.620  16.46   0   1     4   \n",
       "1      Mazda RX4 Wag  21.0    6  160.0  110  3.90  2.875  17.02   0   1     4   \n",
       "2         Datsun 710  22.8    4  108.0   93  3.85  2.320  18.61   1   1     4   \n",
       "3     Hornet 4 Drive  21.4    6  258.0  110  3.08  3.215  19.44   1   0     3   \n",
       "4  Hornet Sportabout  18.7    8  360.0  175  3.15  3.440  17.02   0   0     3   \n",
       "\n",
       "   carb  \n",
       "0     4  \n",
       "1     4  \n",
       "2     1  \n",
       "3     1  \n",
       "4     2  "
      ]
     },
     "execution_count": 170,
     "metadata": {},
     "output_type": "execute_result"
    }
   ],
   "source": [
    "data7 = pd.read_csv('mtcars.csv')\n",
    "data7.head()"
   ]
  },
  {
   "cell_type": "code",
   "execution_count": 172,
   "id": "0e70359c",
   "metadata": {},
   "outputs": [
    {
     "data": {
      "image/png": "[encoded data removed]",
      "text/plain": [
       "<Figure size 576x360 with 1 Axes>"
      ]
     },
     "metadata": {
      "needs_background": "light"
     },
     "output_type": "display_data"
    }
   ],
   "source": [
    "data7.boxplot(column='mpg', by='vs',figsize=(8,5))\n",
    "plt.show()"
   ]
  },
  {
   "cell_type": "code",
   "execution_count": 183,
   "id": "3585f257",
   "metadata": {},
   "outputs": [],
   "source": [
    "sample1 = data7[data7['vs'] == 0]['mpg'].to_numpy()\n",
    "sample2 = data7[data7['vs'] == 1]['mpg'].to_numpy()"
   ]
  },
  {
   "cell_type": "markdown",
   "id": "bdceaf82",
   "metadata": {},
   "source": [
    "Критерий Колмогорова-Смирнова"
   ]
  },
  {
   "cell_type": "code",
   "execution_count": 184,
   "id": "b2133d4f",
   "metadata": {},
   "outputs": [
    {
     "data": {
      "text/plain": [
       "KstestResult(statistic=0.7301587301587301, pvalue=0.0001328071108758211)"
      ]
     },
     "execution_count": 184,
     "metadata": {},
     "output_type": "execute_result"
    }
   ],
   "source": [
    "stats.ks_2samp(sample1,sample2)"
   ]
  },
  {
   "cell_type": "code",
   "execution_count": 189,
   "id": "adad42a5",
   "metadata": {},
   "outputs": [
    {
     "data": {
      "text/plain": [
       "KstestResult(statistic=0.0, pvalue=1.0)"
      ]
     },
     "execution_count": 189,
     "metadata": {},
     "output_type": "execute_result"
    }
   ],
   "source": [
    "stats.ks_2samp(sample1,sample2, alternative='less')"
   ]
  },
  {
   "cell_type": "code",
   "execution_count": 186,
   "id": "5a24bc95",
   "metadata": {},
   "outputs": [
    {
     "data": {
      "text/plain": [
       "KstestResult(statistic=0.7301587301587301, pvalue=6.640355543790075e-05)"
      ]
     },
     "execution_count": 186,
     "metadata": {},
     "output_type": "execute_result"
    }
   ],
   "source": [
    "stats.ks_2samp(sample1,sample2, alternative='greater')"
   ]
  },
  {
   "cell_type": "markdown",
   "id": "4bc6b216",
   "metadata": {},
   "source": [
    "Критерий Манна-Уитни"
   ]
  },
  {
   "cell_type": "code",
   "execution_count": 190,
   "id": "ab8c3e6e",
   "metadata": {},
   "outputs": [
    {
     "data": {
      "text/plain": [
       "MannwhitneyuResult(statistic=22.5, pvalue=9.034471700053182e-05)"
      ]
     },
     "execution_count": 190,
     "metadata": {},
     "output_type": "execute_result"
    }
   ],
   "source": [
    "stats.mannwhitneyu(sample1,sample2, alternative='two-sided')"
   ]
  },
  {
   "cell_type": "code",
   "execution_count": 191,
   "id": "33664014",
   "metadata": {},
   "outputs": [
    {
     "data": {
      "text/plain": [
       "MannwhitneyuResult(statistic=22.5, pvalue=4.517235850026591e-05)"
      ]
     },
     "execution_count": 191,
     "metadata": {},
     "output_type": "execute_result"
    }
   ],
   "source": [
    "stats.mannwhitneyu(sample1,sample2)"
   ]
  },
  {
   "cell_type": "code",
   "execution_count": 192,
   "id": "eb001bff",
   "metadata": {},
   "outputs": [
    {
     "data": {
      "text/plain": [
       "MannwhitneyuResult(statistic=22.5, pvalue=4.517235850026591e-05)"
      ]
     },
     "execution_count": 192,
     "metadata": {},
     "output_type": "execute_result"
    }
   ],
   "source": [
    "stats.mannwhitneyu(sample1,sample2, alternative='less')"
   ]
  },
  {
   "cell_type": "markdown",
   "id": "5ce7eaad",
   "metadata": {},
   "source": [
    "Критерий Стьюдента ( 𝑡 -тест)"
   ]
  },
  {
   "cell_type": "code",
   "execution_count": 194,
   "id": "6701e3b1",
   "metadata": {},
   "outputs": [
    {
     "data": {
      "image/png": "[encoded data removed]",
      "text/plain": [
       "<Figure size 1080x288 with 2 Axes>"
      ]
     },
     "metadata": {
      "needs_background": "light"
     },
     "output_type": "display_data"
    }
   ],
   "source": [
    "fig, (ax1, ax2) = plt.subplots(ncols=2, figsize=(15,4)) \n",
    "\n",
    "ax1.hist(sample1, bins=5)\n",
    "ax2.hist(sample2, bins=5)\n",
    "\n",
    "plt.show()"
   ]
  },
  {
   "cell_type": "code",
   "execution_count": 195,
   "id": "7c1678ff",
   "metadata": {},
   "outputs": [
    {
     "name": "stderr",
     "output_type": "stream",
     "text": [
      "/Library/Frameworks/Python.framework/Versions/3.9/lib/python3.9/site-packages/statsmodels/graphics/gofplots.py:993: UserWarning: marker is redundantly defined by the 'marker' keyword argument and the fmt string \"bo\" (-> marker='o'). The keyword argument will take precedence.\n",
      "  ax.plot(x, y, fmt, **plot_style)\n",
      "/Library/Frameworks/Python.framework/Versions/3.9/lib/python3.9/site-packages/statsmodels/graphics/gofplots.py:993: UserWarning: marker is redundantly defined by the 'marker' keyword argument and the fmt string \"bo\" (-> marker='o'). The keyword argument will take precedence.\n",
      "  ax.plot(x, y, fmt, **plot_style)\n"
     ]
    },
    {
     "data": {
      "image/png": "[encoded data removed]",
      "text/plain": [
       "<Figure size 1080x288 with 2 Axes>"
      ]
     },
     "metadata": {
      "needs_background": "light"
     },
     "output_type": "display_data"
    }
   ],
   "source": [
    "fig, (ax1, ax2) = plt.subplots(ncols=2, figsize=(15,4)) \n",
    "\n",
    "qqplot(sample1, line='r', ax=ax1)\n",
    "qqplot(sample2, line='r', ax=ax2)\n",
    "\n",
    "plt.show()"
   ]
  },
  {
   "cell_type": "code",
   "execution_count": 196,
   "id": "74c31af5",
   "metadata": {},
   "outputs": [
    {
     "data": {
      "text/plain": [
       "Ttest_indResult(statistic=-4.864384956122782, pvalue=3.415937254419951e-05)"
      ]
     },
     "execution_count": 196,
     "metadata": {},
     "output_type": "execute_result"
    }
   ],
   "source": [
    "stats.ttest_ind(sample1, sample2)"
   ]
  },
  {
   "cell_type": "markdown",
   "id": "8f0f5eb2",
   "metadata": {},
   "source": [
    "С помощью \"ящиков с усами\" мы заметили, что расход топлива у одного типа двигателя больше, чем у другого. С помощью критериев однородности, мы убедились, что эти различия значимы."
   ]
  },
  {
   "cell_type": "code",
   "execution_count": 213,
   "id": "407584a5",
   "metadata": {},
   "outputs": [
    {
     "data": {
      "image/png": "[encoded data removed]",
      "text/plain": [
       "<Figure size 576x360 with 1 Axes>"
      ]
     },
     "metadata": {
      "needs_background": "light"
     },
     "output_type": "display_data"
    }
   ],
   "source": [
    "sample3 = data7[data7['am'] == 0]['mpg'].to_numpy()\n",
    "sample4 = data7[data7['am'] == 1]['mpg'].to_numpy()\n",
    "data7.boxplot(column='mpg', by='am',figsize=(8,5))\n",
    "plt.show()"
   ]
  },
  {
   "cell_type": "markdown",
   "id": "7580cbb9",
   "metadata": {},
   "source": [
    "Критерий Колмогорова-Смирнова"
   ]
  },
  {
   "cell_type": "code",
   "execution_count": 198,
   "id": "519e7ab0",
   "metadata": {},
   "outputs": [
    {
     "data": {
      "text/plain": [
       "KstestResult(statistic=0.6356275303643725, pvalue=0.00194012440784197)"
      ]
     },
     "execution_count": 198,
     "metadata": {},
     "output_type": "execute_result"
    }
   ],
   "source": [
    "stats.ks_2samp(sample4,sample3)"
   ]
  },
  {
   "cell_type": "code",
   "execution_count": 207,
   "id": "654998b2",
   "metadata": {},
   "outputs": [
    {
     "data": {
      "text/plain": [
       "KstestResult(statistic=0.0, pvalue=1.0)"
      ]
     },
     "execution_count": 207,
     "metadata": {},
     "output_type": "execute_result"
    }
   ],
   "source": [
    "stats.ks_2samp(sample3,sample4, alternative='less')"
   ]
  },
  {
   "cell_type": "markdown",
   "id": "e2ea7315",
   "metadata": {},
   "source": [
    "Критерий Манна-Уитни"
   ]
  },
  {
   "cell_type": "code",
   "execution_count": 208,
   "id": "b900e292",
   "metadata": {},
   "outputs": [
    {
     "data": {
      "text/plain": [
       "MannwhitneyuResult(statistic=42.0, pvalue=0.0009356956665892771)"
      ]
     },
     "execution_count": 208,
     "metadata": {},
     "output_type": "execute_result"
    }
   ],
   "source": [
    "stats.mannwhitneyu(sample3,sample4)"
   ]
  },
  {
   "cell_type": "code",
   "execution_count": 209,
   "id": "75f4e1f4",
   "metadata": {},
   "outputs": [
    {
     "data": {
      "text/plain": [
       "MannwhitneyuResult(statistic=42.0, pvalue=0.0018713913331785542)"
      ]
     },
     "execution_count": 209,
     "metadata": {},
     "output_type": "execute_result"
    }
   ],
   "source": [
    "stats.mannwhitneyu(sample3,sample4, alternative='two-sided')"
   ]
  },
  {
   "cell_type": "markdown",
   "id": "727e7e05",
   "metadata": {},
   "source": [
    "Критерий Стьюдента ( 𝑡 -тест)"
   ]
  },
  {
   "cell_type": "code",
   "execution_count": 210,
   "id": "7a11ad5e",
   "metadata": {},
   "outputs": [
    {
     "data": {
      "image/png": "[encoded data removed]",
      "text/plain": [
       "<Figure size 1080x288 with 2 Axes>"
      ]
     },
     "metadata": {
      "needs_background": "light"
     },
     "output_type": "display_data"
    }
   ],
   "source": [
    "fig, (ax1, ax2) = plt.subplots(ncols=2, figsize=(15,4)) \n",
    "\n",
    "ax1.hist(sample3, bins=5)\n",
    "ax2.hist(sample4, bins=5)\n",
    "\n",
    "plt.show()"
   ]
  },
  {
   "cell_type": "code",
   "execution_count": 211,
   "id": "ddcca72f",
   "metadata": {},
   "outputs": [
    {
     "name": "stderr",
     "output_type": "stream",
     "text": [
      "/Library/Frameworks/Python.framework/Versions/3.9/lib/python3.9/site-packages/statsmodels/graphics/gofplots.py:993: UserWarning: marker is redundantly defined by the 'marker' keyword argument and the fmt string \"bo\" (-> marker='o'). The keyword argument will take precedence.\n",
      "  ax.plot(x, y, fmt, **plot_style)\n",
      "/Library/Frameworks/Python.framework/Versions/3.9/lib/python3.9/site-packages/statsmodels/graphics/gofplots.py:993: UserWarning: marker is redundantly defined by the 'marker' keyword argument and the fmt string \"bo\" (-> marker='o'). The keyword argument will take precedence.\n",
      "  ax.plot(x, y, fmt, **plot_style)\n"
     ]
    },
    {
     "data": {
      "image/png": "[encoded data removed]",
      "text/plain": [
       "<Figure size 1080x288 with 2 Axes>"
      ]
     },
     "metadata": {
      "needs_background": "light"
     },
     "output_type": "display_data"
    }
   ],
   "source": [
    "fig, (ax1, ax2) = plt.subplots(ncols=2, figsize=(15,4)) \n",
    "\n",
    "qqplot(sample3, line='r', ax=ax1)\n",
    "qqplot(sample4, line='r', ax=ax2)\n",
    "\n",
    "plt.show()"
   ]
  },
  {
   "cell_type": "code",
   "execution_count": 212,
   "id": "6888a8d6",
   "metadata": {},
   "outputs": [
    {
     "data": {
      "text/plain": [
       "Ttest_indResult(statistic=-4.106126983100689, pvalue=0.0002850207439350686)"
      ]
     },
     "execution_count": 212,
     "metadata": {},
     "output_type": "execute_result"
    }
   ],
   "source": [
    "stats.ttest_ind(sample3, sample4)"
   ]
  },
  {
   "cell_type": "markdown",
   "id": "2a6a2d4b",
   "metadata": {},
   "source": [
    "С помощью \"ящиков с усами\" мы заметили, что расход топлива у машин с автоматической коробкой передач меньше, чем у машин с ручной. С помощью критериев однородности, мы убедились, что эти различия значимы."
   ]
  },
  {
   "cell_type": "code",
   "execution_count": null,
   "id": "f1e7f9a7",
   "metadata": {},
   "outputs": [],
   "source": []
  }
 ],
 "metadata": {
  "kernelspec": {
   "display_name": "Python 3",
   "language": "python",
   "name": "python3"
  },
  "language_info": {
   "codemirror_mode": {
    "name": "ipython",
    "version": 3
   },
   "file_extension": ".py",
   "mimetype": "text/x-python",
   "name": "python",
   "nbconvert_exporter": "python",
   "pygments_lexer": "ipython3",
   "version": "3.9.5"
  }
 },
 "nbformat": 4,
 "nbformat_minor": 5
}
